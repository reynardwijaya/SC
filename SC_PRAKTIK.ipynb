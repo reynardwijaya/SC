{
  "nbformat": 4,
  "nbformat_minor": 0,
  "metadata": {
    "colab": {
      "provenance": [],
      "authorship_tag": "ABX9TyNUIjSsGk050rKYF/8QEwWV",
      "include_colab_link": true
    },
    "kernelspec": {
      "name": "python3",
      "display_name": "Python 3"
    },
    "language_info": {
      "name": "python"
    }
  },
  "cells": [
    {
      "cell_type": "markdown",
      "metadata": {
        "id": "view-in-github",
        "colab_type": "text"
      },
      "source": [
        "<a href=\"https://colab.research.google.com/github/reynardwijaya/SC/blob/main/SC_PRAKTIK.ipynb\" target=\"_parent\"><img src=\"https://colab.research.google.com/assets/colab-badge.svg\" alt=\"Open In Colab\"/></a>"
      ]
    },
    {
      "cell_type": "markdown",
      "source": [
        "*ubah urutan data*"
      ],
      "metadata": {
        "id": "S8JjjHpGnM8Z"
      }
    },
    {
      "cell_type": "code",
      "execution_count": 3,
      "metadata": {
        "colab": {
          "base_uri": "https://localhost:8080/"
        },
        "id": "BXLFJ1R_eKfh",
        "outputId": "2ab761cd-626b-459f-ab65-5f45095f170d"
      },
      "outputs": [
        {
          "output_type": "stream",
          "name": "stdout",
          "text": [
            "Heloo\n"
          ]
        }
      ],
      "source": [
        "print (\"Heloo\")"
      ]
    },
    {
      "cell_type": "markdown",
      "source": [
        "Time (tampilan)"
      ],
      "metadata": {
        "id": "i_C_MEHNoO3k"
      }
    },
    {
      "cell_type": "code",
      "source": [
        "import time"
      ],
      "metadata": {
        "id": "-Inhw7F9lry-"
      },
      "execution_count": null,
      "outputs": []
    },
    {
      "cell_type": "code",
      "source": [
        "print(time.ctime()) #time: library, c.time = function"
      ],
      "metadata": {
        "id": "-YcImLnslykQ"
      },
      "execution_count": null,
      "outputs": []
    },
    {
      "cell_type": "code",
      "source": [
        "#cara declare variabel ga perlu defined tipe data\n",
        "x = 1\n",
        "#cara print x\n",
        "print(x)\n",
        "x"
      ],
      "metadata": {
        "colab": {
          "base_uri": "https://localhost:8080/"
        },
        "id": "7j3YybLCnSW3",
        "outputId": "556c390e-bca6-4945-f775-e5c02b4e0cc9"
      },
      "execution_count": 7,
      "outputs": [
        {
          "output_type": "stream",
          "name": "stdout",
          "text": [
            "1\n"
          ]
        },
        {
          "output_type": "execute_result",
          "data": {
            "text/plain": [
              "1"
            ]
          },
          "metadata": {},
          "execution_count": 7
        }
      ]
    },
    {
      "cell_type": "code",
      "source": [
        "x = \"hello world\" #string\n",
        "b = 20 #int\n",
        "c = 20.8 #float\n",
        "f = [\"apple\", \"berry\"] #list\n",
        "\n",
        "x, b, c, f"
      ],
      "metadata": {
        "colab": {
          "base_uri": "https://localhost:8080/"
        },
        "id": "C6XEA3y6okIW",
        "outputId": "b0c43388-401e-451b-fa35-65a2b907d064"
      },
      "execution_count": 14,
      "outputs": [
        {
          "output_type": "execute_result",
          "data": {
            "text/plain": [
              "('hello world', 20, 20.8, ['apple', 'berry'])"
            ]
          },
          "metadata": {},
          "execution_count": 14
        }
      ]
    },
    {
      "cell_type": "code",
      "source": [
        "#casting tipe var\n",
        "o = int(1)   # x will be 1\n",
        "y = int(2.8) # y will be 2\n",
        "z = int(\"3\") # z will be 3\n",
        "j = str(3.0)  # z will be '3.0'\n",
        "print (o, y, z, j)\n"
      ],
      "metadata": {
        "colab": {
          "base_uri": "https://localhost:8080/"
        },
        "id": "5Bm3nZd-pq-t",
        "outputId": "ceccb1bc-7aa0-4f50-8e84-4ebc4a9f466c"
      },
      "execution_count": 17,
      "outputs": [
        {
          "output_type": "stream",
          "name": "stdout",
          "text": [
            "1 2 3 3.0\n"
          ]
        }
      ]
    },
    {
      "cell_type": "code",
      "source": [
        "#gabungin string (concat)\n",
        "a = \"Hello\"\n",
        "b = \"World\"\n",
        "c = a + b\n",
        "print(c)"
      ],
      "metadata": {
        "colab": {
          "base_uri": "https://localhost:8080/"
        },
        "id": "6uTeecuOrJOC",
        "outputId": "beba7ac6-8129-4eb9-8ca0-09646dc49c01"
      },
      "execution_count": 24,
      "outputs": [
        {
          "output_type": "stream",
          "name": "stdout",
          "text": [
            "HelloWorld\n"
          ]
        }
      ]
    },
    {
      "cell_type": "code",
      "source": [
        "a = \"Hello, World!\"\n",
        "print(a[1])\n"
      ],
      "metadata": {
        "colab": {
          "base_uri": "https://localhost:8080/"
        },
        "id": "FVUlVV5mrua9",
        "outputId": "7165c3bf-e23f-4a58-c996-921db29db0fb"
      },
      "execution_count": 19,
      "outputs": [
        {
          "output_type": "stream",
          "name": "stdout",
          "text": [
            "e\n"
          ]
        }
      ]
    },
    {
      "cell_type": "code",
      "source": [
        "#size\n",
        "a = \"Hello, World!\"\n",
        "print(len(a))"
      ],
      "metadata": {
        "id": "PVYCWu2vrxrJ"
      },
      "execution_count": null,
      "outputs": []
    },
    {
      "cell_type": "code",
      "source": [
        "#slicing\n",
        "#Get the characters from position 2 to position 5 (not included):\n",
        "b = \"Hello, World!\"\n",
        "print(b[2:5])\n",
        "\n",
        "#Get the characters from the start to position 5 (not included):\n",
        "c = \"Hello, World!\"\n",
        "print(c[:5])\n",
        "\n",
        "#Get the characters from position 2, and all the way to the end:\n",
        "d = \"Hello, World!\"\n",
        "print(d[2:])\n",
        "\n",
        "d = \"Hello, World!\"\n",
        "print(d[-2:])"
      ],
      "metadata": {
        "colab": {
          "base_uri": "https://localhost:8080/"
        },
        "id": "AgJbYWVvr2_j",
        "outputId": "c2113882-edff-4aa5-9749-8f5c5a5bbb0b"
      },
      "execution_count": 21,
      "outputs": [
        {
          "output_type": "stream",
          "name": "stdout",
          "text": [
            "llo\n",
            "Hello\n",
            "llo, World!\n"
          ]
        }
      ]
    },
    {
      "cell_type": "code",
      "source": [
        "a = \"Hello, World!\"\n",
        "print(a.upper())\n",
        "\n",
        "b = \"Hello, World!\"\n",
        "print(b.lower())\n",
        "\n",
        "a = \"Hello, World!\"\n",
        "print(a.replace(\"H\", \"J\"))"
      ],
      "metadata": {
        "colab": {
          "base_uri": "https://localhost:8080/"
        },
        "id": "TCGOL0KVsstq",
        "outputId": "fe9d2f4f-c35e-4d36-9361-e77ae844425d"
      },
      "execution_count": 23,
      "outputs": [
        {
          "output_type": "stream",
          "name": "stdout",
          "text": [
            "HELLO, WORLD!\n",
            "hello, world!\n",
            "Jello, World!\n"
          ]
        }
      ]
    },
    {
      "cell_type": "code",
      "source": [
        "nama = \"rey\"\n",
        "x = 19\n",
        "string  = \"Nama sya {} umur {}\"\n",
        "\n",
        "print (string.format(nama, x))"
      ],
      "metadata": {
        "colab": {
          "base_uri": "https://localhost:8080/"
        },
        "id": "PYax5gINtswY",
        "outputId": "b78a27c2-3e54-48cb-e780-bba4797d7d14"
      },
      "execution_count": 26,
      "outputs": [
        {
          "output_type": "stream",
          "name": "stdout",
          "text": [
            "Nama sya rey umur 19\n"
          ]
        }
      ]
    },
    {
      "cell_type": "code",
      "source": [
        "# memberikan indeks pada elemen dalam iterable\n",
        "for i in enumerate(nama):\n",
        "    print(i)"
      ],
      "metadata": {
        "id": "Xm8kH0DRywkm"
      },
      "execution_count": null,
      "outputs": []
    },
    {
      "cell_type": "code",
      "source": [
        "def perbandingan (a,b):\n",
        "  if a > b:\n",
        "    print(\"a lebih dari b\")\n",
        "  elif a < b:\n",
        "    print(\"a kurang dari b\")\n",
        "  else:\n",
        "    print(\"a = b\")"
      ],
      "metadata": {
        "id": "QeADcx1kuN_w"
      },
      "execution_count": 27,
      "outputs": []
    },
    {
      "cell_type": "code",
      "source": [
        "perbandingan (4,5)"
      ],
      "metadata": {
        "colab": {
          "base_uri": "https://localhost:8080/"
        },
        "id": "WE6Ekc1Pus8W",
        "outputId": "72637fb9-5d74-48d7-f72a-b0bd7c7b0427"
      },
      "execution_count": 28,
      "outputs": [
        {
          "output_type": "stream",
          "name": "stdout",
          "text": [
            "a kurang dari b\n"
          ]
        }
      ]
    },
    {
      "cell_type": "code",
      "source": [
        "i=1\n",
        "while i<6:\n",
        "  print(i)\n",
        "  i+=1"
      ],
      "metadata": {
        "colab": {
          "base_uri": "https://localhost:8080/"
        },
        "id": "GAVJxq0uuyVv",
        "outputId": "731e8207-bb6a-417c-9a47-2dfeaeea4141"
      },
      "execution_count": 30,
      "outputs": [
        {
          "output_type": "stream",
          "name": "stdout",
          "text": [
            "1\n",
            "2\n",
            "3\n",
            "4\n",
            "5\n"
          ]
        }
      ]
    },
    {
      "cell_type": "code",
      "source": [
        "i=2\n",
        "for i in range(0,6):\n",
        "  print (i)"
      ],
      "metadata": {
        "colab": {
          "base_uri": "https://localhost:8080/"
        },
        "id": "_uhy6MgfvIeF",
        "outputId": "fe524929-6e6d-40c7-bbc4-be398ba8db30"
      },
      "execution_count": 32,
      "outputs": [
        {
          "output_type": "stream",
          "name": "stdout",
          "text": [
            "0\n",
            "1\n",
            "2\n",
            "3\n",
            "4\n",
            "5\n"
          ]
        }
      ]
    },
    {
      "cell_type": "code",
      "source": [
        "for o in range (0, 100):\n",
        "    if(o%2==1):\n",
        "        print(o)\n",
        "    elif(o%2==0):\n",
        "        print(\"genap\")"
      ],
      "metadata": {
        "colab": {
          "base_uri": "https://localhost:8080/"
        },
        "id": "9j8BgIlHzJAU",
        "outputId": "8a16be0c-0373-42d6-c2e0-d30845f4f962"
      },
      "execution_count": 59,
      "outputs": [
        {
          "output_type": "stream",
          "name": "stdout",
          "text": [
            "genap\n",
            "1\n",
            "genap\n",
            "3\n",
            "genap\n",
            "5\n",
            "genap\n",
            "7\n",
            "genap\n",
            "9\n",
            "genap\n",
            "11\n",
            "genap\n",
            "13\n",
            "genap\n",
            "15\n",
            "genap\n",
            "17\n",
            "genap\n",
            "19\n",
            "genap\n",
            "21\n",
            "genap\n",
            "23\n",
            "genap\n",
            "25\n",
            "genap\n",
            "27\n",
            "genap\n",
            "29\n",
            "genap\n",
            "31\n",
            "genap\n",
            "33\n",
            "genap\n",
            "35\n",
            "genap\n",
            "37\n",
            "genap\n",
            "39\n",
            "genap\n",
            "41\n",
            "genap\n",
            "43\n",
            "genap\n",
            "45\n",
            "genap\n",
            "47\n",
            "genap\n",
            "49\n",
            "genap\n",
            "51\n",
            "genap\n",
            "53\n",
            "genap\n",
            "55\n",
            "genap\n",
            "57\n",
            "genap\n",
            "59\n",
            "genap\n",
            "61\n",
            "genap\n",
            "63\n",
            "genap\n",
            "65\n",
            "genap\n",
            "67\n",
            "genap\n",
            "69\n",
            "genap\n",
            "71\n",
            "genap\n",
            "73\n",
            "genap\n",
            "75\n",
            "genap\n",
            "77\n",
            "genap\n",
            "79\n",
            "genap\n",
            "81\n",
            "genap\n",
            "83\n",
            "genap\n",
            "85\n",
            "genap\n",
            "87\n",
            "genap\n",
            "89\n",
            "genap\n",
            "91\n",
            "genap\n",
            "93\n",
            "genap\n",
            "95\n",
            "genap\n",
            "97\n",
            "genap\n",
            "99\n"
          ]
        }
      ]
    },
    {
      "cell_type": "code",
      "source": [
        "array = [\"abc\", \"gfd\"]\n",
        "\n",
        "for i in array:\n",
        "  print (i)"
      ],
      "metadata": {
        "colab": {
          "base_uri": "https://localhost:8080/"
        },
        "id": "dhnRvqD6vWc5",
        "outputId": "7d53b3d0-934e-4dbd-a9a9-60dbdd47329a"
      },
      "execution_count": 33,
      "outputs": [
        {
          "output_type": "stream",
          "name": "stdout",
          "text": [
            "abc\n",
            "gfd\n"
          ]
        }
      ]
    },
    {
      "cell_type": "code",
      "source": [
        "import numpy as np\n",
        "# digunakan untuk komputasi numerik."
      ],
      "metadata": {
        "id": "VAKQ0slpvo6d"
      },
      "execution_count": 36,
      "outputs": []
    },
    {
      "cell_type": "code",
      "source": [
        "x = np.array([1, 3, 4])\n",
        "x"
      ],
      "metadata": {
        "colab": {
          "base_uri": "https://localhost:8080/"
        },
        "id": "9Yx_38rBvxaj",
        "outputId": "a02e4d4c-ea6e-4a69-e3d9-9cb453d7ea7a"
      },
      "execution_count": 37,
      "outputs": [
        {
          "output_type": "execute_result",
          "data": {
            "text/plain": [
              "array([1, 3, 4])"
            ]
          },
          "metadata": {},
          "execution_count": 37
        }
      ]
    },
    {
      "cell_type": "code",
      "source": [
        "y = np.array([[1, 3, 4], [4, 9, 4]])\n",
        "y"
      ],
      "metadata": {
        "colab": {
          "base_uri": "https://localhost:8080/"
        },
        "id": "xLWnDsJ-wAcX",
        "outputId": "c0981339-fb13-47e8-96b9-b3218caca35c"
      },
      "execution_count": 43,
      "outputs": [
        {
          "output_type": "execute_result",
          "data": {
            "text/plain": [
              "array([[1, 3, 4],\n",
              "       [4, 9, 4]])"
            ]
          },
          "metadata": {},
          "execution_count": 43
        }
      ]
    },
    {
      "cell_type": "code",
      "source": [
        "k = np.array([[1, 0, 8], [1, 3, 4]])\n",
        "k"
      ],
      "metadata": {
        "colab": {
          "base_uri": "https://localhost:8080/"
        },
        "id": "jwvWYBOHxlP-",
        "outputId": "ec6123ad-3024-4081-e865-f67b39c5f40c"
      },
      "execution_count": 56,
      "outputs": [
        {
          "output_type": "execute_result",
          "data": {
            "text/plain": [
              "array([[1, 0, 8],\n",
              "       [1, 3, 4]])"
            ]
          },
          "metadata": {},
          "execution_count": 56
        }
      ]
    },
    {
      "cell_type": "code",
      "source": [
        "print(y+k)"
      ],
      "metadata": {
        "colab": {
          "base_uri": "https://localhost:8080/"
        },
        "id": "lK6neWjFxt6H",
        "outputId": "116f7081-1489-41c2-f79f-f2cd94166bd2"
      },
      "execution_count": 57,
      "outputs": [
        {
          "output_type": "stream",
          "name": "stdout",
          "text": [
            "[[ 2  3 12]\n",
            " [ 5 12  8]]\n"
          ]
        }
      ]
    },
    {
      "cell_type": "code",
      "source": [
        "def sum(a,b,c):\n",
        "  sum = a+b+c\n",
        "  return sum"
      ],
      "metadata": {
        "id": "FpdKRwTGwXaA"
      },
      "execution_count": 47,
      "outputs": []
    },
    {
      "cell_type": "code",
      "source": [
        "  print(sum(1,2,3))"
      ],
      "metadata": {
        "colab": {
          "base_uri": "https://localhost:8080/"
        },
        "id": "xWk8D9ahwmnw",
        "outputId": "1a7d075f-6af7-4548-da49-3966f81db23b"
      },
      "execution_count": 48,
      "outputs": [
        {
          "output_type": "stream",
          "name": "stdout",
          "text": [
            "6\n"
          ]
        }
      ]
    },
    {
      "cell_type": "code",
      "source": [
        "def operasi(a,b,op):\n",
        "  if op=='+':\n",
        "    return a+b\n",
        "  elif op=='-':\n",
        "    return a-b"
      ],
      "metadata": {
        "id": "FE-CxOjOwujI"
      },
      "execution_count": 55,
      "outputs": []
    },
    {
      "cell_type": "code",
      "source": [
        "print(operasi(3,2,'-'))"
      ],
      "metadata": {
        "colab": {
          "base_uri": "https://localhost:8080/"
        },
        "id": "OpHqOaCrw_FN",
        "outputId": "04534a2e-672b-4544-8026-2f9a459b1689"
      },
      "execution_count": 52,
      "outputs": [
        {
          "output_type": "stream",
          "name": "stdout",
          "text": [
            "1\n"
          ]
        }
      ]
    },
    {
      "cell_type": "code",
      "source": [
        "data = np.array([10, 20, 30, 40, 50])\n",
        "\n",
        "print(\"Rata-rata:\", np.mean(data))\n",
        "print(\"Maksimum:\", np.max(data))\n",
        "print(\"Minimum:\", np.min(data))\n",
        "print(\"Standar Deviasi:\", np.std(data))"
      ],
      "metadata": {
        "colab": {
          "base_uri": "https://localhost:8080/"
        },
        "id": "eTo5huS6yh7V",
        "outputId": "8dc389cd-5b65-4dec-845d-41743d356f00"
      },
      "execution_count": 58,
      "outputs": [
        {
          "output_type": "stream",
          "name": "stdout",
          "text": [
            "Rata-rata: 30.0\n",
            "Maksimum: 50\n",
            "Minimum: 10\n",
            "Standar Deviasi: 14.142135623730951\n"
          ]
        }
      ]
    },
    {
      "cell_type": "code",
      "source": [
        "def namamur(namas, umurs, index):\n",
        "    nama = namas[index]   # Ambil nama sesuai indeks\n",
        "    umur = umurs[index]   # Ambil umur sesuai indeks\n",
        "    returnValue = {       # Simpan dalam dictionary\n",
        "        'nama': nama, 'umur': umur\n",
        "    }\n",
        "    return returnValue    # Kembalikan dictionary\n",
        "\n",
        "\n",
        "  # Data yang Digunakan\n",
        "namas = ['a', 't', 'i', 'i', 'o']\n",
        "umurs = [3,4,7,2,8]\n",
        "for i in range(0, len(namas)-1):\n",
        "    hasil = namamur(namas, umurs, i)\n",
        "    print(hasil)\n"
      ],
      "metadata": {
        "colab": {
          "base_uri": "https://localhost:8080/"
        },
        "id": "DxnVd2N_zk-G",
        "outputId": "ba3139a3-dda5-4ab2-be0c-2506b9ae92e3"
      },
      "execution_count": 60,
      "outputs": [
        {
          "output_type": "stream",
          "name": "stdout",
          "text": [
            "{'nama': 'a', 'umur': 3}\n",
            "{'nama': 't', 'umur': 4}\n",
            "{'nama': 'i', 'umur': 7}\n",
            "{'nama': 'i', 'umur': 2}\n"
          ]
        }
      ]
    }
  ]
}